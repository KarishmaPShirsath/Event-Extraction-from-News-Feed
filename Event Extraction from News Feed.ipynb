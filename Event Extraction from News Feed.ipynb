{
 "cells": [
  {
   "cell_type": "markdown",
   "id": "bda61c01",
   "metadata": {},
   "source": [
    "#### Event Extraction from a News Feed.\n",
    "#### In Web scraping we have gathered the data from a News website  -  https://scrippsnews.com/\n",
    "#### Web scraping is done with BeautifulSoup in Python"
   ]
  },
  {
   "cell_type": "code",
   "execution_count": 1,
   "id": "910a911b",
   "metadata": {},
   "outputs": [],
   "source": [
    "import pandas as pd\n",
    "import numpy as np\n",
    "import seaborn as sns\n",
    "import nltk\n",
    "import matplotlib.pyplot as plt\n",
    "import requests\n",
    "from tqdm import tqdm_notebook\n",
    "from bs4 import BeautifulSoup\n",
    "import random\n",
    "from wordcloud import WordCloud\n",
    "import os\n",
    "from textblob import TextBlob\n",
    "import re \n",
    "import string"
   ]
  },
  {
   "cell_type": "code",
   "execution_count": 2,
   "id": "326faaff",
   "metadata": {},
   "outputs": [],
   "source": [
    "import warnings\n",
    "warnings.filterwarnings(\"ignore\")"
   ]
  },
  {
   "cell_type": "code",
   "execution_count": 3,
   "id": "d416aa09",
   "metadata": {},
   "outputs": [],
   "source": [
    "#url=\"https://www.nytimes.com/section/world/canada\"\n",
    "#url=\"https://www.nytimes.com/search?dropmab=false&endDate=20230616&query=&sort=best&startDate=20220616\"\n",
    "#url=\"https://www.nytimes.com/search?dropmab=false&endDate=20230617&query=&sort=best&startDate=20230517\"\n",
    "url=\"https://scrippsnews.com/\""
   ]
  },
  {
   "cell_type": "code",
   "execution_count": 4,
   "id": "4b96dd06",
   "metadata": {},
   "outputs": [],
   "source": [
    "r = requests.get(url)"
   ]
  },
  {
   "cell_type": "code",
   "execution_count": 5,
   "id": "ded9a910",
   "metadata": {},
   "outputs": [],
   "source": [
    "r.encoding = 'utf-8'"
   ]
  },
  {
   "cell_type": "code",
   "execution_count": 6,
   "id": "294ab1db",
   "metadata": {},
   "outputs": [],
   "source": [
    "html = r.text"
   ]
  },
  {
   "cell_type": "code",
   "execution_count": 7,
   "id": "9e3d64d2",
   "metadata": {},
   "outputs": [
    {
     "name": "stdout",
     "output_type": "stream",
     "text": [
      "ctive, impactful storytelling.\" /><meta name=\"news_keywords\" content=\"\" /><link rel=\"canonical\" href=\"https://scrippsnews.com/\" /><meta property=\"fb:app_id\" content=\"380870506022\" /><meta property=\"fb:pages\" content=\"49978948774\" /><meta property=\"og:title\" content=\"Scripps News | U.S. News and Latest World Headlines\" /><meta property=\"og:description\" content=\"Get compelling, context-driven news, fact-based reporting, and a deeper look at the &#039;why&#039; of each story with objective, impactful storytelling.\" /><meta property=\"og:image\" content=\"https://cdn.scrippsnews.com/images/settings/orig/1672772042.png\" /><meta name=\"thumbnail\" content=\"https://cdn.scrippsnews.com/images/settings/orig/1672772042.png\" /><link rel=\"image_src\" href=\"https://cdn.scrippsnews.com/images/settings/orig/1672772042.png\" /><meta name=\"twitter:image\" content=\"https://cdn.scrippsnews.com/images/settings/orig/1672772042.png\" /><meta property=\"og:url\" content=\"https://scrippsnews.com/\" /><meta property=\"og:site_name\" content=\"Scripps News\" /><meta property=\"article:publisher\" content=\"https://www.facebook.com/scrippsnews\" /><meta name=\"twitter:site\" content=\"@scrippsnews\" /><meta property=\"twitter:title\" content=\"Scripps News | U.S. News and Latest World Headlines\" /><meta property=\"twitter:description\" content=\"Get compelling, context-driven news, fact-based reporting, and a deeper look at the &#039;why&#039; of each story with objective, impactful storytelling.\" /><meta name=\"msvalidate.01\" content=\"24F51C316468881FDAA820C75B2627D0\" /><meta name=\"msvalidate.01\" content=\"675C8D40A5F1E0722AA2D3A33379E884\" /><meta name=\"google-site-verification\" content=\"g0daVwsga_2kaiUZgLcoEwDE6Zclis57JCAq0aVqr-w\" /><meta name=\"google-site-verification\" content=\"o36fft0HATmhbZ_GPX4YSOS3EmkTGkPrvNFxQwzcNbY\" /><meta name=\"facebook-domain-verification\" content=\"5anjjpdeeoqkdy8jjf7fuge3mvvxqo\" /><meta name=\"viewport\" content=\"width=device-width,minimum-scale=1.0,initial-scale=1.0,maximum-scale=5.0,user-scalable=1\" /><link rel=\"preconnect\" href=\"https://cdn.scrippsnews.com\" crossorigin><link rel=\"dns-prefetch\" href=\"https://cdn.scrippsnews.com\"><link href=\"/css/homepage.20230601035855.css\" rel=\"preload\" as=\"style\" /><link href=\"/js/all.20230601035855.js\" rel=\"preload\" as=\"script\" /><link rel=\"preconnect\" href=\"https://fonts.googleapis.com\"><link rel=\"preconnect\" href=\"https://fonts.gstatic.com\" crossorigin><link rel=\"preconnect\" href=\"https://js-sec.indexww.com\" crossorigin><link rel=\"dns-prefetch\" href=\"https://js-sec.indexww.com\"><link rel=\"preconnect\" href=\"https://ssl.p.jwpcdn.com\" crossorigin><link rel=\"dns-prefetch\" href=\"https://ssl.p.jwpcdn.com\"><link rel=\"preconnect\" href=\"https://d2oh4tlt9mrke9.cloudfront.net\" crossorigin><link rel=\"dns-prefetch\" href=\"https://d2oh4tlt9mrke9.cloudfront.net\"><link rel=\"preconnect\" href=\"https://pixel.quantserve.com\" crossorigin><link rel=\"dns-prefetch\" href=\"https://pixel.quantserve.com\"><link rel=\"preconnect\" href=\"https://secure.quantserve.com\" c\n"
     ]
    }
   ],
   "source": [
    "print(html[1000:4000])"
   ]
  },
  {
   "cell_type": "code",
   "execution_count": 8,
   "id": "9d0fbd82",
   "metadata": {},
   "outputs": [],
   "source": [
    "soup = BeautifulSoup(html)"
   ]
  },
  {
   "cell_type": "code",
   "execution_count": 9,
   "id": "4f15ab05",
   "metadata": {},
   "outputs": [],
   "source": [
    "coverpage_newslist = []\n",
    "\n",
    "def get_news(soup):\n",
    "    news_titles = soup.find_all(class_='title')\n",
    "    \n",
    "    try:        \n",
    "        for titles in news_titles:\n",
    "            news_title = {\n",
    "              'News': titles.text.strip()\n",
    "           }\n",
    "            coverpage_newslist.append(news_title)\n",
    "        print(news_title)\n",
    "    except AttributeError:\n",
    "        #coverpage_newslist.append(news_titles)\n",
    "        pass"
   ]
  },
  {
   "cell_type": "code",
   "execution_count": 10,
   "id": "037b6c8f",
   "metadata": {},
   "outputs": [
    {
     "name": "stdout",
     "output_type": "stream",
     "text": [
      "{'News': 'In Real Life: Mezcal Gold Rush'}\n"
     ]
    }
   ],
   "source": [
    "#for x in tqdm_notebook(range(1,500)):\n",
    "soup = BeautifulSoup(html)\n",
    "get_news(soup)\n",
    "   \n",
    "    #if not soup.find(''):\n",
    "     #   pass\n",
    "    #else:\n",
    "     #   break"
   ]
  },
  {
   "cell_type": "code",
   "execution_count": 11,
   "id": "5a68d703",
   "metadata": {},
   "outputs": [],
   "source": [
    "df= pd.DataFrame(coverpage_newslist)"
   ]
  },
  {
   "cell_type": "code",
   "execution_count": 12,
   "id": "aca60518",
   "metadata": {},
   "outputs": [
    {
     "data": {
      "text/html": [
       "<div>\n",
       "<style scoped>\n",
       "    .dataframe tbody tr th:only-of-type {\n",
       "        vertical-align: middle;\n",
       "    }\n",
       "\n",
       "    .dataframe tbody tr th {\n",
       "        vertical-align: top;\n",
       "    }\n",
       "\n",
       "    .dataframe thead th {\n",
       "        text-align: right;\n",
       "    }\n",
       "</style>\n",
       "<table border=\"1\" class=\"dataframe\">\n",
       "  <thead>\n",
       "    <tr style=\"text-align: right;\">\n",
       "      <th></th>\n",
       "      <th>News</th>\n",
       "    </tr>\n",
       "  </thead>\n",
       "  <tbody>\n",
       "    <tr>\n",
       "      <th>0</th>\n",
       "      <td>Could popular weight loss drugs treat addiction?</td>\n",
       "    </tr>\n",
       "    <tr>\n",
       "      <th>1</th>\n",
       "      <td>Triple-digit heat wave temperatures test the T...</td>\n",
       "    </tr>\n",
       "    <tr>\n",
       "      <th>2</th>\n",
       "      <td>Donald Triplett, the 1st person diagnosed with...</td>\n",
       "    </tr>\n",
       "    <tr>\n",
       "      <th>3</th>\n",
       "      <td>Kourtney Kardashian makes surprise announcemen...</td>\n",
       "    </tr>\n",
       "    <tr>\n",
       "      <th>4</th>\n",
       "      <td>How is Donald Trump expected to fight his indi...</td>\n",
       "    </tr>\n",
       "  </tbody>\n",
       "</table>\n",
       "</div>"
      ],
      "text/plain": [
       "                                                News\n",
       "0   Could popular weight loss drugs treat addiction?\n",
       "1  Triple-digit heat wave temperatures test the T...\n",
       "2  Donald Triplett, the 1st person diagnosed with...\n",
       "3  Kourtney Kardashian makes surprise announcemen...\n",
       "4  How is Donald Trump expected to fight his indi..."
      ]
     },
     "execution_count": 12,
     "metadata": {},
     "output_type": "execute_result"
    }
   ],
   "source": [
    "df.head()"
   ]
  },
  {
   "cell_type": "code",
   "execution_count": 13,
   "id": "7740faaa",
   "metadata": {},
   "outputs": [
    {
     "data": {
      "text/html": [
       "<div>\n",
       "<style scoped>\n",
       "    .dataframe tbody tr th:only-of-type {\n",
       "        vertical-align: middle;\n",
       "    }\n",
       "\n",
       "    .dataframe tbody tr th {\n",
       "        vertical-align: top;\n",
       "    }\n",
       "\n",
       "    .dataframe thead th {\n",
       "        text-align: right;\n",
       "    }\n",
       "</style>\n",
       "<table border=\"1\" class=\"dataframe\">\n",
       "  <thead>\n",
       "    <tr style=\"text-align: right;\">\n",
       "      <th></th>\n",
       "      <th>News</th>\n",
       "    </tr>\n",
       "  </thead>\n",
       "  <tbody>\n",
       "    <tr>\n",
       "      <th>64</th>\n",
       "      <td>Cartoon Network show to introduce 2 nonbinary ...</td>\n",
       "    </tr>\n",
       "    <tr>\n",
       "      <th>65</th>\n",
       "      <td>Ja Morant suspended for first 25 games of 2023...</td>\n",
       "    </tr>\n",
       "    <tr>\n",
       "      <th>66</th>\n",
       "      <td>Push to hold Flint mayor in contempt cites Scr...</td>\n",
       "    </tr>\n",
       "    <tr>\n",
       "      <th>67</th>\n",
       "      <td>The race to save abducted Ukrainian teen, a pa...</td>\n",
       "    </tr>\n",
       "    <tr>\n",
       "      <th>68</th>\n",
       "      <td>In Real Life: Mezcal Gold Rush</td>\n",
       "    </tr>\n",
       "  </tbody>\n",
       "</table>\n",
       "</div>"
      ],
      "text/plain": [
       "                                                 News\n",
       "64  Cartoon Network show to introduce 2 nonbinary ...\n",
       "65  Ja Morant suspended for first 25 games of 2023...\n",
       "66  Push to hold Flint mayor in contempt cites Scr...\n",
       "67  The race to save abducted Ukrainian teen, a pa...\n",
       "68                     In Real Life: Mezcal Gold Rush"
      ]
     },
     "execution_count": 13,
     "metadata": {},
     "output_type": "execute_result"
    }
   ],
   "source": [
    "df.tail()"
   ]
  },
  {
   "cell_type": "code",
   "execution_count": 14,
   "id": "f678572d",
   "metadata": {},
   "outputs": [
    {
     "data": {
      "text/plain": [
       "(69, 1)"
      ]
     },
     "execution_count": 14,
     "metadata": {},
     "output_type": "execute_result"
    }
   ],
   "source": [
    "df.shape"
   ]
  },
  {
   "cell_type": "code",
   "execution_count": 15,
   "id": "8aa079fb",
   "metadata": {},
   "outputs": [
    {
     "data": {
      "text/plain": [
       "12"
      ]
     },
     "execution_count": 15,
     "metadata": {},
     "output_type": "execute_result"
    }
   ],
   "source": [
    "df.duplicated().sum()"
   ]
  },
  {
   "cell_type": "code",
   "execution_count": 16,
   "id": "8a222255",
   "metadata": {},
   "outputs": [
    {
     "data": {
      "text/plain": [
       "News    0\n",
       "dtype: int64"
      ]
     },
     "execution_count": 16,
     "metadata": {},
     "output_type": "execute_result"
    }
   ],
   "source": [
    "df.isnull().sum()"
   ]
  },
  {
   "cell_type": "code",
   "execution_count": 17,
   "id": "5eca9cc0",
   "metadata": {},
   "outputs": [
    {
     "name": "stdout",
     "output_type": "stream",
     "text": [
      "<class 'pandas.core.frame.DataFrame'>\n",
      "RangeIndex: 69 entries, 0 to 68\n",
      "Data columns (total 1 columns):\n",
      " #   Column  Non-Null Count  Dtype \n",
      "---  ------  --------------  ----- \n",
      " 0   News    69 non-null     object\n",
      "dtypes: object(1)\n",
      "memory usage: 680.0+ bytes\n"
     ]
    }
   ],
   "source": [
    "df.info()"
   ]
  },
  {
   "cell_type": "code",
   "execution_count": 18,
   "id": "7cc5e888",
   "metadata": {},
   "outputs": [],
   "source": [
    "text_total = \" \".join(df[\"News\"])"
   ]
  },
  {
   "cell_type": "code",
   "execution_count": 19,
   "id": "2abe95fa",
   "metadata": {},
   "outputs": [
    {
     "data": {
      "text/plain": [
       "4176"
      ]
     },
     "execution_count": 19,
     "metadata": {},
     "output_type": "execute_result"
    }
   ],
   "source": [
    "len(text_total)"
   ]
  },
  {
   "cell_type": "code",
   "execution_count": 20,
   "id": "a7491d2b",
   "metadata": {},
   "outputs": [
    {
     "data": {
      "text/plain": [
       "\"Could popular weight loss drugs treat addiction? Triple-digit heat wave temperatures test the Texas electrical grid Donald Triplett, the 1st person diagnosed with autism, dies at 89 Kourtney Kardashian makes surprise announcement: 'Travis I'm pregnant' How is Donald Trump expected to fight his indictment? Trump and Biden had classified docs. Why is only Trump being charged? John Bolton: Trump acquittal would be 'corrosive' to national security Ex-AG Bill Barr on Trump indictment: Even if half true, 'he's toast' Coast Guard seizes $186 million worth of drugs in international waters Teenagers among 6 shot in Baltimore Study finds Americans are drinking alcohol at sustained elevated rates Roger Payne's last interview: How he changed whale research forever Minneapolis City Council President responds to DOJ report on police Federal judge blocks much of Indiana's minor gender-affirming care ban The history behind the ubiquitous Pride flag Dodgers Pride Night set for Friday despite protests Indigenous searchers say they used ayahuasca to find missing children Pro cyclist Gino Mader dies after high-speed crash Greece's search for migrants feared dead in shipwreck enters final day Paul Whelan's brother urges his release years after Russia arrest The Why Woman pronounced dead knocks on coffin, found alive during wake UPS vehicles could soon be equipped with air conditioning Ingredient commonly found in energy drinks may be key to longer life Get ready: Student loan interest, payments set to resume As the Fed pauses interest rate hikes, will home sales increase? Michael Jordan reportedly finalizing sale of Charlotte Hornets NCAA committee recommends dropping cannabis from athlete banned drugs Tennessee lawmakers win Democratic primaries after being expelled US-Mexico soccer match forced to end early due to homophobic chants Human rights group criticizes lack of US hospital regulations on debt What Georgia has learned from Trump indictments as more charges loom Listen to Scripp\""
      ]
     },
     "execution_count": 20,
     "metadata": {},
     "output_type": "execute_result"
    }
   ],
   "source": [
    "text_total[:2000]"
   ]
  },
  {
   "cell_type": "code",
   "execution_count": 22,
   "id": "0a372640",
   "metadata": {
    "scrolled": true
   },
   "outputs": [
    {
     "name": "stdout",
     "output_type": "stream",
     "text": [
      " $%',-.012345689:?ABCDEFGHIJKLMNOPRSTUWYabcdefghijklmnopqrstuvwxyz\n",
      "66\n"
     ]
    }
   ],
   "source": [
    "chars = sorted(list(set(text_total)))\n",
    "vocab_size = len(chars)\n",
    "print(''.join(chars))\n",
    "print(vocab_size)"
   ]
  },
  {
   "cell_type": "code",
   "execution_count": 23,
   "id": "d977f1a6",
   "metadata": {},
   "outputs": [],
   "source": [
    "df_new = df.copy()"
   ]
  },
  {
   "cell_type": "code",
   "execution_count": 24,
   "id": "325f4673",
   "metadata": {},
   "outputs": [],
   "source": [
    "def cleaning_text(text):\n",
    "    print(text)\n",
    "    text = text.lower()\n",
    "    text = re.sub(r'\\[.*?\\]', '', text)\n",
    "    text = re.sub(r'https?://\\S+|www\\.\\S+', '', text)\n",
    "    text = re.sub(r'[^\\w\\s]', '', text)\n",
    "    text = re.sub(r'[%s]' % re.escape(string.punctuation), '', text)\n",
    "    text = re.sub(r'[\\'\\\"\\.]+', '', text)\n",
    "    return text\n",
    "cleaning = lambda x: cleaning_text(x)\n",
    "\n",
    "\n"
   ]
  },
  {
   "cell_type": "code",
   "execution_count": 25,
   "id": "473d6452",
   "metadata": {
    "scrolled": true
   },
   "outputs": [
    {
     "name": "stdout",
     "output_type": "stream",
     "text": [
      "Could popular weight loss drugs treat addiction?\n",
      "Triple-digit heat wave temperatures test the Texas electrical grid\n",
      "Donald Triplett, the 1st person diagnosed with autism, dies at 89\n",
      "Kourtney Kardashian makes surprise announcement: 'Travis I'm pregnant'\n",
      "How is Donald Trump expected to fight his indictment?\n",
      "Trump and Biden had classified docs. Why is only Trump being charged?\n",
      "John Bolton: Trump acquittal would be 'corrosive' to national security\n",
      "Ex-AG Bill Barr on Trump indictment: Even if half true, 'he's toast'\n",
      "Coast Guard seizes $186 million worth of drugs in international waters\n",
      "Teenagers among 6 shot in Baltimore\n",
      "Study finds Americans are drinking alcohol at sustained elevated rates\n",
      "Roger Payne's last interview: How he changed whale research forever\n",
      "Minneapolis City Council President responds to DOJ report on police\n",
      "Federal judge blocks much of Indiana's minor gender-affirming care ban\n",
      "The history behind the ubiquitous Pride flag\n",
      "Dodgers Pride Night set for Friday despite protests\n",
      "Indigenous searchers say they used ayahuasca to find missing children\n",
      "Pro cyclist Gino Mader dies after high-speed crash\n",
      "Greece's search for migrants feared dead in shipwreck enters final day\n",
      "Paul Whelan's brother urges his release years after Russia arrest\n",
      "The Why\n",
      "Woman pronounced dead knocks on coffin, found alive during wake\n",
      "UPS vehicles could soon be equipped with air conditioning\n",
      "Ingredient commonly found in energy drinks may be key to longer life\n",
      "Get ready: Student loan interest, payments set to resume\n",
      "As the Fed pauses interest rate hikes, will home sales increase?\n",
      "Michael Jordan reportedly finalizing sale of Charlotte Hornets\n",
      "NCAA committee recommends dropping cannabis from athlete banned drugs\n",
      "Tennessee lawmakers win Democratic primaries after being expelled\n",
      "US-Mexico soccer match forced to end early due to homophobic chants\n",
      "Human rights group criticizes lack of US hospital regulations on debt\n",
      "What Georgia has learned from Trump indictments as more charges loom\n",
      "Listen to Scripps News\n",
      "Monday marks 3rd year Juneteenth celebrated as national holiday\n",
      "With high interest rates, does it make sense to buy that house now?\n",
      "Delta debuts new airplane seat design for people using wheelchairs\n",
      "43 prescription drugs may soon cost less for some Medicare recipients\n",
      "Luggage trackers: Do they work and are they safe?\n",
      "Johnsonville sausages recalled for possible plastic contamination\n",
      "Armed volunteers protecting synagogues amid rise in antisemitism\n",
      "Library book returned 65 years later\n",
      "The color of your child's swimsuit could save their life\n",
      "Bud Light isn't the top-selling beer in the US anymore. This one is\n",
      "Stress in the workplace reached an all-time high in 2022\n",
      "Why experts say California is the most fun state in US\n",
      "Monday marks 3rd year Juneteenth celebrated as national holiday\n",
      "With high interest rates, does it make sense to buy that house now?\n",
      "Delta debuts new airplane seat design for people using wheelchairs\n",
      "43 prescription drugs may soon cost less for some Medicare recipients\n",
      "Luggage trackers: Do they work and are they safe?\n",
      "Johnsonville sausages recalled for possible plastic contamination\n",
      "Armed volunteers protecting synagogues amid rise in antisemitism\n",
      "Library book returned 65 years later\n",
      "The color of your child's swimsuit could save their life\n",
      "Bud Light isn't the top-selling beer in the US anymore. This one is\n",
      "Stress in the workplace reached an all-time high in 2022\n",
      "Why experts say California is the most fun state in US\n",
      "Robert Bowers found guilty of killing 11 at Pittsburgh synagogue\n",
      "Nurses smear paint on Monet artwork in Sweden, demand climate action\n",
      "20% of US adults reported depression diagnosis in 2020, study finds\n",
      "'Feel Your Best Self' puppets help kids understand, express feelings\n",
      "Shannen Doherty shares video from before undergoing brain surgery\n",
      "Get live, all-day news\n",
      "US government agencies targeted in global cyberattacks, officials say\n",
      "Cartoon Network show to introduce 2 nonbinary characters\n",
      "Ja Morant suspended for first 25 games of 2023-2024 NBA season\n",
      "Push to hold Flint mayor in contempt cites Scripps News investigation\n",
      "The race to save abducted Ukrainian teen, a pawn of Russian propaganda\n",
      "In Real Life: Mezcal Gold Rush\n"
     ]
    }
   ],
   "source": [
    "df_new['Cleaned_news_Data'] = df_new.News.apply(cleaning)"
   ]
  },
  {
   "cell_type": "code",
   "execution_count": 27,
   "id": "f008fb82",
   "metadata": {},
   "outputs": [
    {
     "data": {
      "text/html": [
       "<div>\n",
       "<style scoped>\n",
       "    .dataframe tbody tr th:only-of-type {\n",
       "        vertical-align: middle;\n",
       "    }\n",
       "\n",
       "    .dataframe tbody tr th {\n",
       "        vertical-align: top;\n",
       "    }\n",
       "\n",
       "    .dataframe thead th {\n",
       "        text-align: right;\n",
       "    }\n",
       "</style>\n",
       "<table border=\"1\" class=\"dataframe\">\n",
       "  <thead>\n",
       "    <tr style=\"text-align: right;\">\n",
       "      <th></th>\n",
       "      <th>News</th>\n",
       "      <th>Cleaned_news_Data</th>\n",
       "    </tr>\n",
       "  </thead>\n",
       "  <tbody>\n",
       "    <tr>\n",
       "      <th>0</th>\n",
       "      <td>Could popular weight loss drugs treat addiction?</td>\n",
       "      <td>could popular weight loss drugs treat addiction</td>\n",
       "    </tr>\n",
       "    <tr>\n",
       "      <th>1</th>\n",
       "      <td>Triple-digit heat wave temperatures test the T...</td>\n",
       "      <td>tripledigit heat wave temperatures test the te...</td>\n",
       "    </tr>\n",
       "    <tr>\n",
       "      <th>2</th>\n",
       "      <td>Donald Triplett, the 1st person diagnosed with...</td>\n",
       "      <td>donald triplett the 1st person diagnosed with ...</td>\n",
       "    </tr>\n",
       "    <tr>\n",
       "      <th>3</th>\n",
       "      <td>Kourtney Kardashian makes surprise announcemen...</td>\n",
       "      <td>kourtney kardashian makes surprise announcemen...</td>\n",
       "    </tr>\n",
       "    <tr>\n",
       "      <th>4</th>\n",
       "      <td>How is Donald Trump expected to fight his indi...</td>\n",
       "      <td>how is donald trump expected to fight his indi...</td>\n",
       "    </tr>\n",
       "    <tr>\n",
       "      <th>...</th>\n",
       "      <td>...</td>\n",
       "      <td>...</td>\n",
       "    </tr>\n",
       "    <tr>\n",
       "      <th>64</th>\n",
       "      <td>Cartoon Network show to introduce 2 nonbinary ...</td>\n",
       "      <td>cartoon network show to introduce 2 nonbinary ...</td>\n",
       "    </tr>\n",
       "    <tr>\n",
       "      <th>65</th>\n",
       "      <td>Ja Morant suspended for first 25 games of 2023...</td>\n",
       "      <td>ja morant suspended for first 25 games of 2023...</td>\n",
       "    </tr>\n",
       "    <tr>\n",
       "      <th>66</th>\n",
       "      <td>Push to hold Flint mayor in contempt cites Scr...</td>\n",
       "      <td>push to hold flint mayor in contempt cites scr...</td>\n",
       "    </tr>\n",
       "    <tr>\n",
       "      <th>67</th>\n",
       "      <td>The race to save abducted Ukrainian teen, a pa...</td>\n",
       "      <td>the race to save abducted ukrainian teen a paw...</td>\n",
       "    </tr>\n",
       "    <tr>\n",
       "      <th>68</th>\n",
       "      <td>In Real Life: Mezcal Gold Rush</td>\n",
       "      <td>in real life mezcal gold rush</td>\n",
       "    </tr>\n",
       "  </tbody>\n",
       "</table>\n",
       "<p>69 rows × 2 columns</p>\n",
       "</div>"
      ],
      "text/plain": [
       "                                                 News   \n",
       "0    Could popular weight loss drugs treat addiction?  \\\n",
       "1   Triple-digit heat wave temperatures test the T...   \n",
       "2   Donald Triplett, the 1st person diagnosed with...   \n",
       "3   Kourtney Kardashian makes surprise announcemen...   \n",
       "4   How is Donald Trump expected to fight his indi...   \n",
       "..                                                ...   \n",
       "64  Cartoon Network show to introduce 2 nonbinary ...   \n",
       "65  Ja Morant suspended for first 25 games of 2023...   \n",
       "66  Push to hold Flint mayor in contempt cites Scr...   \n",
       "67  The race to save abducted Ukrainian teen, a pa...   \n",
       "68                     In Real Life: Mezcal Gold Rush   \n",
       "\n",
       "                                    Cleaned_news_Data  \n",
       "0     could popular weight loss drugs treat addiction  \n",
       "1   tripledigit heat wave temperatures test the te...  \n",
       "2   donald triplett the 1st person diagnosed with ...  \n",
       "3   kourtney kardashian makes surprise announcemen...  \n",
       "4   how is donald trump expected to fight his indi...  \n",
       "..                                                ...  \n",
       "64  cartoon network show to introduce 2 nonbinary ...  \n",
       "65  ja morant suspended for first 25 games of 2023...  \n",
       "66  push to hold flint mayor in contempt cites scr...  \n",
       "67  the race to save abducted ukrainian teen a paw...  \n",
       "68                      in real life mezcal gold rush  \n",
       "\n",
       "[69 rows x 2 columns]"
      ]
     },
     "execution_count": 27,
     "metadata": {},
     "output_type": "execute_result"
    }
   ],
   "source": [
    "df_new"
   ]
  }
 ],
 "metadata": {
  "kernelspec": {
   "display_name": "Python 3 (ipykernel)",
   "language": "python",
   "name": "python3"
  },
  "language_info": {
   "codemirror_mode": {
    "name": "ipython",
    "version": 3
   },
   "file_extension": ".py",
   "mimetype": "text/x-python",
   "name": "python",
   "nbconvert_exporter": "python",
   "pygments_lexer": "ipython3",
   "version": "3.9.13"
  }
 },
 "nbformat": 4,
 "nbformat_minor": 5
}
